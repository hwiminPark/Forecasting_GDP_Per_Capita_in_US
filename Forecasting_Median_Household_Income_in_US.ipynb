{
 "cells": [
  {
   "cell_type": "markdown",
   "metadata": {},
   "source": [
    "# Forecasting Median Household Income in US"
   ]
  },
  {
   "cell_type": "markdown",
   "metadata": {},
   "source": [
    "---"
   ]
  },
  {
   "cell_type": "markdown",
   "metadata": {},
   "source": [
    "### Project Overview\n",
    "This project aims to forecast the median household income in the US over the next year. Accurately predicting income trends is crucial for strategic product planning. Understanding whether a product is classified as a normal or inferior good allows firms to anticipate how changes in income levels will impact consumer behavior and, consequently, their sales. By forecasting income trends, businesses can better align their strategies to capitalize on expected shifts in purchasing power."
   ]
  },
  {
   "cell_type": "markdown",
   "metadata": {},
   "source": [
    "### Background\n",
    "The dataset utilized in this project comprises US macroeconomic data spanning from 2002 to 2022. This comprehensive dataset includes key economic indicators such as GDP, inflation rates, and unemployment rates, which are essential for understanding the factors that influence median household income. By analyzing these variables, the project aims to uncover trends and correlations that can inform accurate forecasts of future income levels."
   ]
  },
  {
   "cell_type": "markdown",
   "metadata": {},
   "source": [
    "### Objectives\n",
    "- **Segment Economic Cycles:** Identify and categorize distinct periods within the economic cycle to understand their impact on household income trends.\n",
    "- **Analyze Influential Factors:** Determine the key macroeconomic factors that significantly influence median household income.\n",
    "- **Forecast Future Income:** Predict the median household income for the upcoming year using the identified factors and economic indicators."
   ]
  },
  {
   "cell_type": "markdown",
   "metadata": {},
   "source": [
    "### Data Description\n",
    "#### Dataset Overview\n",
    "The dataset for this project is sourced from FRED, CENSUS, OECD, and the Conference Board. It covers a period of 241 months, from 2002 to 2022, and includes 15 features.\n",
    "#### Key Features\n",
    "- **DATE:** Start date of the month\n",
    "- **UNRATE (%):** Unemployment rate in the US for the specified month\n",
    "- **CONSUMER CONF INDEX:** Consumer Confidence Index provided by the Conference Board\n",
    "- **PPI-CONST MAT.:** Producer Price Index for Construction Materials\n",
    "- **CPIALLITEMS:** Consumer Price Index for All Items in the US\n",
    "- **INFLATION (%):** Inflation rate in the US\n",
    "- **MORTGAGE INT. MONTHLY AVG (%):** Average mortgage interest rate for the month\n",
    "- **MED HOUSEHOLD INCOME:** Median household income in the US\n",
    "- **CORP. BOND YIELD (%):** Corporate bond yield\n",
    "- **MONTHLY HOME SUPPLY:** Monthly housing supply data\n",
    "- **% SHARE OF WORKING POPULATION:** Percentage of the population aged 18 to 60\n",
    "- **GDP PER CAPITA:** GDP per capita\n",
    "- **QUARTERLY REAL GDP:** Real GDP data on a quarterly basis\n",
    "- **QUARTERLY GDP GROWTH RATE (%):** Quarterly GDP growth rate\n",
    "- **CSUSHPISA:** S&P/Case-Shiller U.S. National Home Price Index provided by FRED\n",
    "#### Data Types\n",
    "- **Categorical:** DATE\n",
    "- **Numerical:** UNRATE (%), CONSUMER CONF INDEX, PPI-CONST MAT., CPIALLITEMS, INFLATION (%), MORTGAGE INT. MONTHLY AVG (%), MED HOUSEHOLD INCOME, CORP. BOND YIELD (%), MONTHLY HOME SUPPLY, % SHARE OF WORKING POPULATION, GDP PER CAPITA, QUARTERLY REAL GDP, QUARTERLY GDP GROWTH RATE (%), CSUSHPISA"
   ]
  },
  {
   "cell_type": "markdown",
   "metadata": {},
   "source": [
    "### Prediction\n",
    "The primary goal of this project is to forecast the median household income for the upcoming year. By leveraging historical data and macroeconomic indicators, the aim is to develop an accurate prediction model that can provide valuable insights for business planning and economic analysis."
   ]
  },
  {
   "cell_type": "markdown",
   "metadata": {},
   "source": [
    "### Metric\n",
    "**RMSE (Root Mean Squared Error):** RMSE measures the square root of the average of the squared differences between predicted and actual values. It provides an easily interpretable measure of prediction accuracy, expressed in the same units as the target variable. Lower RMSE values indicate better model performance and closer alignment between predicted and actual values."
   ]
  },
  {
   "cell_type": "markdown",
   "metadata": {},
   "source": [
    "### References\n",
    "1. **Dataset Source:** [FRED](https://fred.stlouisfed.org/), [CENSUS](https://www.census.gov/data.html), [OECD](https://www.oecd.org/statistics/), [Conference Board](https://www.conference-board.org/)"
   ]
  },
  {
   "cell_type": "markdown",
   "metadata": {},
   "source": [
    "---"
   ]
  },
  {
   "cell_type": "markdown",
   "metadata": {},
   "source": []
  }
 ],
 "metadata": {
  "language_info": {
   "name": "python"
  }
 },
 "nbformat": 4,
 "nbformat_minor": 2
}
