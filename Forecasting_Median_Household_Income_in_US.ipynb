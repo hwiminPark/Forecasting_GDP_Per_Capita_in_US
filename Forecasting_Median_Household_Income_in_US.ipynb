{
 "cells": [
  {
   "cell_type": "markdown",
   "metadata": {},
   "source": [
    "# Forecasting Median Household Income in US"
   ]
  },
  {
   "cell_type": "markdown",
   "metadata": {},
   "source": [
    "---"
   ]
  },
  {
   "cell_type": "markdown",
   "metadata": {},
   "source": [
    "### Project Overview\n",
    "This project aims to forecast the median household income in the US over the next year. Accurately predicting income trends is crucial for strategic product planning. Understanding whether a product is classified as a normal or inferior good allows firms to anticipate how changes in income levels will impact consumer behavior and, consequently, their sales. By forecasting income trends, businesses can better align their strategies to capitalize on expected shifts in purchasing power."
   ]
  }
 ],
 "metadata": {
  "language_info": {
   "name": "python"
  }
 },
 "nbformat": 4,
 "nbformat_minor": 2
}
